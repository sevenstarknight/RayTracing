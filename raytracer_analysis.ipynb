{
 "cells": [
  {
   "cell_type": "code",
   "execution_count": 4,
   "metadata": {},
   "outputs": [],
   "source": [
    "from datetime import datetime\n",
    "import pandas as pd\n",
    "\n",
    "# ====================================================\n",
    "# https://pyproj4.github.io/pyproj/stable/\n",
    "import pyproj\n",
    "\n",
    "# ====================================================\n",
    "# local imports\n",
    "from src.bindings.positional.satelliteinformation_class import SatelliteInformation\n",
    "from src.bindings.positional.coordinates_class import LLA_Coord\n",
    "from src.bindings.positional.timeandlocation_class import TimeAndLocation\n",
    "from src.bindings.models.ionospherestate_class import IonosphereState\n",
    "\n",
    "from src.indexrefractionmodels.dispersionmodels_enum import DispersionModel\n",
    "from src.indexrefractionmodels.transportmodes_enum import TransportMode\n",
    "from src.positional.satellitepositiongenerator import SatellitePositionGenerator\n",
    "from src.stratification.quantizationparameter_class import QuantizationParameter\n",
    "from src.stratification.stratificationmethod_enum import StratificationMethod\n",
    "from src.raypatheffects import EstimateRayPathEffects\n",
    "# ====================================================\n",
    "# constants\n",
    "ECEF = pyproj.Proj(proj='geocent', ellps='WGS84', datum='WGS84')\n",
    "LLA = pyproj.Proj(proj='latlong', ellps='WGS84', datum='WGS84')"
   ]
  },
  {
   "cell_type": "code",
   "execution_count": 5,
   "metadata": {},
   "outputs": [],
   "source": [
    "\n",
    "s = '1 25544U 98067A   19343.69339541  .00001764  00000-0  38792-4 0  9991'\n",
    "t = '2 25544  51.6439 211.2001 0007417  17.6667  85.6398 15.50103472202482'\n",
    "name = \"Test\"\n",
    "\n",
    "satelliteInformation = SatelliteInformation(name=name, s=s, t=t)\n",
    "satPosGenerator = SatellitePositionGenerator(satelliteInformation)"
   ]
  },
  {
   "cell_type": "code",
   "execution_count": 6,
   "metadata": {},
   "outputs": [],
   "source": [
    "# Initial Starting Point\n",
    "\n",
    "from src.positional.locationconverter_computations import LocationConverterComputation\n",
    "\n",
    "\n",
    "currentDateTime = datetime(2016, 1, 26, 12, 0, 0)\n",
    "sat_ECEF = satPosGenerator.estimatePosition_ECEF(currentDateTime)\n",
    "\n",
    "# expected height, assume minimal change in position with range projection\n",
    "event_LLA: LLA_Coord = LocationConverterComputation.convertFromECEFtoLLA(ecef=sat_ECEF)\n",
    "event_LLA.setAltitude(0.0)\n",
    "\n",
    "\n",
    "timeAndLocation = TimeAndLocation(\n",
    "    eventLocation_LLA=event_LLA, eventTime_UTC=currentDateTime)"
   ]
  },
  {
   "cell_type": "code",
   "execution_count": 7,
   "metadata": {},
   "outputs": [
    {
     "name": "stderr",
     "output_type": "stream",
     "text": [
      "\u001b[32m2024-08-01 14:35:09.612\u001b[0m | \u001b[31m\u001b[1mERROR   \u001b[0m | \u001b[36msrc.indexrefractionmodels.xmodel\u001b[0m:\u001b[36mestimateIndexOfRefraction\u001b[0m:\u001b[36m20\u001b[0m - \u001b[31m\u001b[1mSome errors were detected !\n",
      "    Line #4 (got 100 columns instead of 12)\u001b[0m\n"
     ]
    },
    {
     "ename": "UnboundLocalError",
     "evalue": "local variable 'iriOutput' referenced before assignment",
     "output_type": "error",
     "traceback": [
      "\u001b[0;31m---------------------------------------------------------------------------\u001b[0m",
      "\u001b[0;31mUnboundLocalError\u001b[0m                         Traceback (most recent call last)",
      "Cell \u001b[0;32mIn[7], line 11\u001b[0m\n\u001b[1;32m      7\u001b[0m freq_Hz \u001b[38;5;241m=\u001b[39m \u001b[38;5;241m10e6\u001b[39m\n\u001b[1;32m      9\u001b[0m quantizationParameter \u001b[38;5;241m=\u001b[39m QuantizationParameter(StratificationMethod\u001b[38;5;241m.\u001b[39mDECIMATION_MODEL,nQuant\u001b[38;5;241m=\u001b[39m\u001b[38;5;241m4\u001b[39m)\n\u001b[0;32m---> 11\u001b[0m transIonosphereEffects \u001b[38;5;241m=\u001b[39m \u001b[43mestimateRayPathEffects\u001b[49m\u001b[38;5;241;43m.\u001b[39;49m\u001b[43mestimate\u001b[49m\u001b[43m(\u001b[49m\u001b[43mfreq_Hz\u001b[49m\u001b[38;5;241;43m=\u001b[39;49m\u001b[43mfreq_Hz\u001b[49m\u001b[43m,\u001b[49m\u001b[43m \u001b[49m\u001b[43mquantizationParameter\u001b[49m\u001b[38;5;241;43m=\u001b[39;49m\u001b[43mquantizationParameter\u001b[49m\u001b[43m,\u001b[49m\u001b[43m \u001b[49m\n\u001b[1;32m     12\u001b[0m \u001b[43mionosphereState\u001b[49m\u001b[38;5;241;43m=\u001b[39;49m\u001b[43mionosphereState\u001b[49m\u001b[43m,\u001b[49m\u001b[43m \u001b[49m\u001b[43msatelliteInformation\u001b[49m\u001b[38;5;241;43m=\u001b[39;49m\u001b[43msatelliteInformation\u001b[49m\u001b[43m)\u001b[49m\n",
      "File \u001b[0;32m/workspaces/RayTracing/src/raypatheffects.py:32\u001b[0m, in \u001b[0;36mEstimateRayPathEffects.estimate\u001b[0;34m(self, freq_Hz, quantizationParameter, satelliteInformation, ionosphereState)\u001b[0m\n\u001b[1;32m     25\u001b[0m \u001b[38;5;28;01mdef\u001b[39;00m \u001b[38;5;21mestimate\u001b[39m(\u001b[38;5;28mself\u001b[39m, freq_Hz: \u001b[38;5;28mfloat\u001b[39m, quantizationParameter: QuantizationParameter,\n\u001b[1;32m     26\u001b[0m              satelliteInformation: SatelliteInformation, ionosphereState: IonosphereState) \u001b[38;5;241m-\u001b[39m\u001b[38;5;241m>\u001b[39m TransIonosphereEffects:\n\u001b[1;32m     27\u001b[0m \n\u001b[1;32m     28\u001b[0m     \u001b[38;5;66;03m# ======================================================\u001b[39;00m\n\u001b[1;32m     29\u001b[0m     stratificationOptimizer \u001b[38;5;241m=\u001b[39m StratificationOptimizer(dispersionModel\u001b[38;5;241m=\u001b[39m\u001b[38;5;28mself\u001b[39m\u001b[38;5;241m.\u001b[39mdispersionModel,\n\u001b[1;32m     30\u001b[0m                                                       timeAndLocation\u001b[38;5;241m=\u001b[39m\u001b[38;5;28mself\u001b[39m\u001b[38;5;241m.\u001b[39mtimeAndLocation, transportMode\u001b[38;5;241m=\u001b[39m\u001b[38;5;28mself\u001b[39m\u001b[38;5;241m.\u001b[39mtransportMode)\n\u001b[0;32m---> 32\u001b[0m     heights_m \u001b[38;5;241m=\u001b[39m \u001b[43mstratificationOptimizer\u001b[49m\u001b[38;5;241;43m.\u001b[39;49m\u001b[43mgenerateHeightModel\u001b[49m\u001b[43m(\u001b[49m\u001b[43mfreq_Hz\u001b[49m\u001b[38;5;241;43m=\u001b[39;49m\u001b[43mfreq_Hz\u001b[49m\u001b[43m,\u001b[49m\u001b[43m \u001b[49m\u001b[43mquantizationParameter\u001b[49m\u001b[38;5;241;43m=\u001b[39;49m\u001b[43mquantizationParameter\u001b[49m\u001b[43m,\u001b[49m\n\u001b[1;32m     33\u001b[0m \u001b[43m                                                            \u001b[49m\u001b[43mionosphereState\u001b[49m\u001b[38;5;241;43m=\u001b[39;49m\u001b[43mionosphereState\u001b[49m\u001b[43m,\u001b[49m\u001b[43m \u001b[49m\u001b[43msatelliteInformation\u001b[49m\u001b[38;5;241;43m=\u001b[39;49m\u001b[43msatelliteInformation\u001b[49m\u001b[43m)\u001b[49m\n\u001b[1;32m     35\u001b[0m     \u001b[38;5;66;03m# ======================================================\u001b[39;00m\n\u001b[1;32m     36\u001b[0m     \u001b[38;5;66;03m# Generate Ray State\u001b[39;00m\n\u001b[1;32m     37\u001b[0m     optimizer \u001b[38;5;241m=\u001b[39m RayPathOptimizer(\n\u001b[1;32m     38\u001b[0m         freq_hz\u001b[38;5;241m=\u001b[39mfreq_Hz, timeAndLocation\u001b[38;5;241m=\u001b[39m\u001b[38;5;28mself\u001b[39m\u001b[38;5;241m.\u001b[39mtimeAndLocation, heights_m\u001b[38;5;241m=\u001b[39mheights_m, dispersionModel\u001b[38;5;241m=\u001b[39m\u001b[38;5;28mself\u001b[39m\u001b[38;5;241m.\u001b[39mdispersionModel,\n\u001b[1;32m     39\u001b[0m         transportMode\u001b[38;5;241m=\u001b[39m\u001b[38;5;28mself\u001b[39m\u001b[38;5;241m.\u001b[39mtransportMode, ionosphereState\u001b[38;5;241m=\u001b[39mionosphereState)\n",
      "File \u001b[0;32m/workspaces/RayTracing/src/raytracer/stratificationoptimizer.py:60\u001b[0m, in \u001b[0;36mStratificationOptimizer.generateHeightModel\u001b[0;34m(self, freq_Hz, quantizationParameter, satelliteInformation, ionosphereState)\u001b[0m\n\u001b[1;32m     54\u001b[0m initialHeights_m \u001b[38;5;241m=\u001b[39m np\u001b[38;5;241m.\u001b[39marray(\u001b[38;5;28mlist\u001b[39m(filtered))\n\u001b[1;32m     56\u001b[0m indexOfRefractionGenerator \u001b[38;5;241m=\u001b[39m IndexOfRefractionGenerator(\n\u001b[1;32m     57\u001b[0m     frequency_hz\u001b[38;5;241m=\u001b[39mfreq_Hz, dispersionModel\u001b[38;5;241m=\u001b[39m\u001b[38;5;28mself\u001b[39m\u001b[38;5;241m.\u001b[39mdispersionModel, transportMode\u001b[38;5;241m=\u001b[39m\u001b[38;5;28mself\u001b[39m\u001b[38;5;241m.\u001b[39mtransportMode,\n\u001b[1;32m     58\u001b[0m     ionosphereState\u001b[38;5;241m=\u001b[39mionosphereState, startTimeAndLocation\u001b[38;5;241m=\u001b[39m\u001b[38;5;28mself\u001b[39m\u001b[38;5;241m.\u001b[39mtimeAndLocation)\n\u001b[0;32m---> 60\u001b[0m indexNs \u001b[38;5;241m=\u001b[39m \u001b[43mindexOfRefractionGenerator\u001b[49m\u001b[38;5;241;43m.\u001b[39;49m\u001b[43mestimateIndexN\u001b[49m\u001b[43m(\u001b[49m\n\u001b[1;32m     61\u001b[0m \u001b[43m    \u001b[49m\u001b[43mheightStratification_m\u001b[49m\u001b[38;5;241;43m=\u001b[39;49m\u001b[43minitialHeights_m\u001b[49m\u001b[43m,\u001b[49m\u001b[43m \u001b[49m\u001b[43msat_ECEF\u001b[49m\u001b[38;5;241;43m=\u001b[39;49m\u001b[43msat_ECEF\u001b[49m\u001b[43m)\u001b[49m\n\u001b[1;32m     63\u001b[0m indexNReal_list \u001b[38;5;241m=\u001b[39m [x\u001b[38;5;241m.\u001b[39mreal \u001b[38;5;28;01mfor\u001b[39;00m x \u001b[38;5;129;01min\u001b[39;00m indexNs]\n\u001b[1;32m     64\u001b[0m indexNReal \u001b[38;5;241m=\u001b[39m np\u001b[38;5;241m.\u001b[39marray(indexNReal_list)\n",
      "File \u001b[0;32m/workspaces/RayTracing/src/indexrefractionmodels/indexofrefractiongenerator.py:55\u001b[0m, in \u001b[0;36mIndexOfRefractionGenerator.estimateIndexN\u001b[0;34m(self, sat_ECEF, heightStratification_m)\u001b[0m\n\u001b[1;32m     51\u001b[0m layers \u001b[38;5;241m=\u001b[39m slantPathGenerator\u001b[38;5;241m.\u001b[39mestimateSlantPath(\n\u001b[1;32m     52\u001b[0m     \u001b[38;5;28mself\u001b[39m\u001b[38;5;241m.\u001b[39mstartTimeAndLocation, sat_ECEF, heightStratification_m)\n\u001b[1;32m     54\u001b[0m \u001b[38;5;66;03m# Loop over layers\u001b[39;00m\n\u001b[0;32m---> 55\u001b[0m indexNs \u001b[38;5;241m=\u001b[39m [\u001b[38;5;28mself\u001b[39m\u001b[38;5;241m.\u001b[39mrefractionModel\u001b[38;5;241m.\u001b[39mestimateIndexOfRefraction(layer\u001b[38;5;241m=\u001b[39mlayer) \u001b[38;5;28;01mfor\u001b[39;00m layer \u001b[38;5;129;01min\u001b[39;00m layers]\n\u001b[1;32m     57\u001b[0m \u001b[38;5;66;03m# tack on an open layer at the nd \u001b[39;00m\n\u001b[1;32m     58\u001b[0m indexNs\u001b[38;5;241m.\u001b[39mappend(indexNs[\u001b[38;5;241m-\u001b[39m\u001b[38;5;241m1\u001b[39m])\n",
      "File \u001b[0;32m/workspaces/RayTracing/src/indexrefractionmodels/indexofrefractiongenerator.py:55\u001b[0m, in \u001b[0;36m<listcomp>\u001b[0;34m(.0)\u001b[0m\n\u001b[1;32m     51\u001b[0m layers \u001b[38;5;241m=\u001b[39m slantPathGenerator\u001b[38;5;241m.\u001b[39mestimateSlantPath(\n\u001b[1;32m     52\u001b[0m     \u001b[38;5;28mself\u001b[39m\u001b[38;5;241m.\u001b[39mstartTimeAndLocation, sat_ECEF, heightStratification_m)\n\u001b[1;32m     54\u001b[0m \u001b[38;5;66;03m# Loop over layers\u001b[39;00m\n\u001b[0;32m---> 55\u001b[0m indexNs \u001b[38;5;241m=\u001b[39m [\u001b[38;5;28;43mself\u001b[39;49m\u001b[38;5;241;43m.\u001b[39;49m\u001b[43mrefractionModel\u001b[49m\u001b[38;5;241;43m.\u001b[39;49m\u001b[43mestimateIndexOfRefraction\u001b[49m\u001b[43m(\u001b[49m\u001b[43mlayer\u001b[49m\u001b[38;5;241;43m=\u001b[39;49m\u001b[43mlayer\u001b[49m\u001b[43m)\u001b[49m \u001b[38;5;28;01mfor\u001b[39;00m layer \u001b[38;5;129;01min\u001b[39;00m layers]\n\u001b[1;32m     57\u001b[0m \u001b[38;5;66;03m# tack on an open layer at the nd \u001b[39;00m\n\u001b[1;32m     58\u001b[0m indexNs\u001b[38;5;241m.\u001b[39mappend(indexNs[\u001b[38;5;241m-\u001b[39m\u001b[38;5;241m1\u001b[39m])\n",
      "File \u001b[0;32m/workspaces/RayTracing/src/indexrefractionmodels/xmodel.py:22\u001b[0m, in \u001b[0;36mXModel.estimateIndexOfRefraction\u001b[0;34m(self, layer)\u001b[0m\n\u001b[1;32m     19\u001b[0m \u001b[38;5;28;01mexcept\u001b[39;00m \u001b[38;5;167;01mException\u001b[39;00m \u001b[38;5;28;01mas\u001b[39;00m me:\n\u001b[1;32m     20\u001b[0m     logger\u001b[38;5;241m.\u001b[39merror(\u001b[38;5;28mstr\u001b[39m(me))\n\u001b[0;32m---> 22\u001b[0m n_e \u001b[38;5;241m=\u001b[39m \u001b[43miriOutput\u001b[49m\u001b[38;5;241m.\u001b[39mn_e\n\u001b[1;32m     23\u001b[0m \u001b[38;5;28;01mif\u001b[39;00m np\u001b[38;5;241m.\u001b[39misnan(n_e):\n\u001b[1;32m     24\u001b[0m     nSq \u001b[38;5;241m=\u001b[39m \u001b[38;5;241m1.0\u001b[39m\n",
      "\u001b[0;31mUnboundLocalError\u001b[0m: local variable 'iriOutput' referenced before assignment"
     ]
    }
   ],
   "source": [
    "ionosphereState = IonosphereState(10.0, 10.0, [3.0, 3.0, 3.0])\n",
    "\n",
    "# ======================================================\n",
    "estimateRayPathEffects = EstimateRayPathEffects(\n",
    "    timeAndLocation=timeAndLocation, dispersionModel=DispersionModel.X_MODEL, transportMode=TransportMode.PLASMA_MODE)\n",
    "\n",
    "freq_Hz = 10e6\n",
    "\n",
    "quantizationParameter = QuantizationParameter(StratificationMethod.DECIMATION_MODEL,nQuant=4)\n",
    "\n",
    "transIonosphereEffects = estimateRayPathEffects.estimate(freq_Hz=freq_Hz, quantizationParameter=quantizationParameter, \n",
    "ionosphereState=ionosphereState, satelliteInformation=satelliteInformation)"
   ]
  },
  {
   "cell_type": "code",
   "execution_count": null,
   "metadata": {},
   "outputs": [],
   "source": [
    "print(transIonosphereEffects.totalIonoDelay_sec)\n",
    "print(transIonosphereEffects.totalIonoLoss_db)\n",
    "\n",
    "rayVectors = transIonosphereEffects.rayVectors\n",
    "listTmp = []\n",
    "columnNames = []\n",
    "for rayVector in rayVectors:\n",
    "    tmpList = rayVector.rayState.generateList()\n",
    "    listTmp.append(tmpList)\n",
    "    columnNames = rayVector.rayState.generateColumnNames()\n",
    "\n",
    "df = pd.DataFrame(listTmp, columns = columnNames, dtype = float)"
   ]
  },
  {
   "cell_type": "code",
   "execution_count": null,
   "metadata": {},
   "outputs": [],
   "source": [
    "import matplotlib.pyplot as plt\n",
    "\n",
    "fig = plt.scatter(df['Longitude'],  df['Altitude']/1000)\n",
    "\n",
    "plt.xlabel(\"Longtiude [deg]\")\n",
    "plt.ylabel(\"Altitude [km]\")\n",
    "\n",
    "plt.show()"
   ]
  }
 ],
 "metadata": {
  "interpreter": {
   "hash": "c665a77d8665bfa36dea652a947388d7bb15ad70788b81369c4c949b553a2a88"
  },
  "kernelspec": {
   "display_name": "Python 3.9.7 ('venv': venv)",
   "language": "python",
   "name": "python3"
  },
  "language_info": {
   "codemirror_mode": {
    "name": "ipython",
    "version": 3
   },
   "file_extension": ".py",
   "mimetype": "text/x-python",
   "name": "python",
   "nbconvert_exporter": "python",
   "pygments_lexer": "ipython3",
   "version": "3.10.13"
  },
  "orig_nbformat": 4
 },
 "nbformat": 4,
 "nbformat_minor": 2
}
