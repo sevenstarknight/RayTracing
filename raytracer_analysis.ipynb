{
 "cells": [
  {
   "cell_type": "code",
   "execution_count": 1,
   "metadata": {},
   "outputs": [],
   "source": [
    "from datetime import datetime\n",
    "import pandas as pd\n",
    "\n",
    "# ====================================================\n",
    "# https://pyproj4.github.io/pyproj/stable/\n",
    "import pyproj\n",
    "\n",
    "# ====================================================\n",
    "# local imports\n",
    "from src.bindings.coordinates_class import LLA_Coord\n",
    "from src.bindings.satelliteinformation_class import SatelliteInformation\n",
    "from src.bindings.timeandlocation_class import TimeAndLocation\n",
    "from src.bindings.ionospherestate_class import IonosphereState\n",
    "from src.indexrefractionmodels.dispersionmodels_enum import DispersionModel\n",
    "from src.indexrefractionmodels.transportmodes_enum import TransportMode\n",
    "from src.positional.satellitepositiongenerator import SatellitePositionGenerator\n",
    "from src.raypatheffects import EstimateRayPathEffects\n",
    "\n",
    "# ====================================================\n",
    "# constants\n",
    "ECEF = pyproj.Proj(proj='geocent', ellps='WGS84', datum='WGS84')\n",
    "LLA = pyproj.Proj(proj='latlong', ellps='WGS84', datum='WGS84')"
   ]
  },
  {
   "cell_type": "code",
   "execution_count": null,
   "metadata": {},
   "outputs": [],
   "source": [
    "s = '1 25544U 98067A   19343.69339541  .00001764  00000-0  38792-4 0  9991'\n",
    "t = '2 25544  51.6439 211.2001 0007417  17.6667  85.6398 15.50103472202482'\n",
    "name = \"Test\"\n",
    "\n",
    "satelliteInformation = SatelliteInformation(name=name, s=s, t=t)\n",
    "satPosGenerator = SatellitePositionGenerator(satelliteInformation)"
   ]
  },
  {
   "cell_type": "code",
   "execution_count": null,
   "metadata": {},
   "outputs": [],
   "source": [
    "# Initial Starting Point\n",
    "currentDateTime = datetime(2012, 9, 15, 13, 14, 30)\n",
    "sat_ECEF = satPosGenerator.estimatePosition_ECEF(currentDateTime)\n",
    "\n",
    "# expected height, assume minimal change in position with range projection\n",
    "lon_deg, lat_deg, alt_m = pyproj.transform(\n",
    "    ECEF, LLA, sat_ECEF.x_m, sat_ECEF.y_m, sat_ECEF.z_m, radians=False)\n",
    "\n",
    "event_LLA = LLA_Coord(lat_deg, lon_deg, 0.0)\n",
    "timeAndLocation = TimeAndLocation(\n",
    "    eventLocation_LLA=event_LLA, eventTime_UTC=currentDateTime)"
   ]
  },
  {
   "cell_type": "code",
   "execution_count": null,
   "metadata": {},
   "outputs": [],
   "source": [
    "ionosphereState = IonosphereState(10.0, 10.0, 3.0)\n",
    "\n",
    "# ======================================================\n",
    "optimizer = EstimateRayPathEffects(\n",
    "    timeAndLocation=timeAndLocation, dispersionModel=DispersionModel.X_MODEL, transportMode=TransportMode.PLASMA_MODE)\n",
    "\n",
    "freq_Hz = 10*6\n",
    "\n",
    "transIonosphereEffects = optimizer.estimate(\n",
    "    freq_Hz=freq_Hz, satelliteInformation=satelliteInformation, ionosphereState = ionosphereState)"
   ]
  },
  {
   "cell_type": "code",
   "execution_count": null,
   "metadata": {},
   "outputs": [],
   "source": [
    "print(transIonosphereEffects.totalIonoDelay_sec)\n",
    "print(transIonosphereEffects.totalIonoLoss_db)\n",
    "\n",
    "rayStates = transIonosphereEffects.rayStates\n",
    "listTmp = []\n",
    "columnNames = []\n",
    "for rayState in rayStates:\n",
    "    tmpList = rayState.generateList()\n",
    "    listTmp.append(tmpList)\n",
    "    columnNames = rayState.generateColumnNames()\n",
    "\n",
    "df = pd.DataFrame(listTmp, columns = columnNames, dtype = float)"
   ]
  },
  {
   "cell_type": "code",
   "execution_count": null,
   "metadata": {},
   "outputs": [],
   "source": [
    "import matplotlib.pyplot as plt\n",
    "\n",
    "fig = plt.scatter(df['Longitude'],  df['Altitude'])\n",
    "\n",
    "plt.xlabel(\"Longtiude [deg]\")\n",
    "plt.ylabel(\"Altitude [m]\")\n",
    "\n",
    "plt.show()"
   ]
  }
 ],
 "metadata": {
  "interpreter": {
   "hash": "c665a77d8665bfa36dea652a947388d7bb15ad70788b81369c4c949b553a2a88"
  },
  "kernelspec": {
   "display_name": "Python 3.9.7 ('venv': venv)",
   "language": "python",
   "name": "python3"
  },
  "language_info": {
   "codemirror_mode": {
    "name": "ipython",
    "version": 3
   },
   "file_extension": ".py",
   "mimetype": "text/x-python",
   "name": "python",
   "nbconvert_exporter": "python",
   "pygments_lexer": "ipython3",
   "version": "3.9.7"
  },
  "orig_nbformat": 4
 },
 "nbformat": 4,
 "nbformat_minor": 2
}
