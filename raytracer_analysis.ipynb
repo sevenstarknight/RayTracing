{
 "cells": [
  {
   "cell_type": "code",
   "execution_count": 1,
   "metadata": {},
   "outputs": [],
   "source": [
    "from datetime import datetime\n",
    "import pandas as pd\n",
    "\n",
    "# ====================================================\n",
    "# https://pyproj4.github.io/pyproj/stable/\n",
    "import pyproj\n",
    "\n",
    "# ====================================================\n",
    "# local imports\n",
    "from src.bindings.coordinates_class import LLA_Coord\n",
    "from src.bindings.satelliteinformation_class import SatelliteInformation\n",
    "from src.bindings.timeandlocation_class import TimeAndLocation\n",
    "from src.bindings.ionospherestate_class import IonosphereState\n",
    "from src.indexrefractionmodels.dispersionmodels_enum import DispersionModel\n",
    "from src.indexrefractionmodels.transportmodes_enum import TransportMode\n",
    "from src.positional.satellitepositiongenerator import SatellitePositionGenerator\n",
    "from src.stratification.quantizationparameter_class import QuantizationParameter\n",
    "from src.stratification.stratificationmethod_enum import StratificationMethod\n",
    "from src.raypatheffects import EstimateRayPathEffects\n",
    "# ====================================================\n",
    "# constants\n",
    "ECEF = pyproj.Proj(proj='geocent', ellps='WGS84', datum='WGS84')\n",
    "LLA = pyproj.Proj(proj='latlong', ellps='WGS84', datum='WGS84')"
   ]
  },
  {
   "cell_type": "code",
   "execution_count": 2,
   "metadata": {},
   "outputs": [],
   "source": [
    "s = '1 25544U 98067A   19343.69339541  .00001764  00000-0  38792-4 0  9991'\n",
    "t = '2 25544  51.6439 211.2001 0007417  17.6667  85.6398 15.50103472202482'\n",
    "name = \"Test\"\n",
    "\n",
    "satelliteInformation = SatelliteInformation(name=name, s=s, t=t)\n",
    "satPosGenerator = SatellitePositionGenerator(satelliteInformation)"
   ]
  },
  {
   "cell_type": "code",
   "execution_count": 5,
   "metadata": {},
   "outputs": [
    {
     "name": "stderr",
     "output_type": "stream",
     "text": [
      "/var/folders/58/1tk2h3ms7v1_2xqlx0tps9rc0000gn/T/ipykernel_21635/3684137777.py:6: DeprecationWarning: This function is deprecated. See: https://pyproj4.github.io/pyproj/stable/gotchas.html#upgrading-to-pyproj-2-from-pyproj-1\n",
      "  lon_deg, lat_deg, alt_m = pyproj.transform(\n"
     ]
    }
   ],
   "source": [
    "# Initial Starting Point\n",
    "currentDateTime = datetime(2021, 1, 26, 12, 0, 0)\n",
    "sat_ECEF = satPosGenerator.estimatePosition_ECEF(currentDateTime)\n",
    "\n",
    "# expected height, assume minimal change in position with range projection\n",
    "lon_deg, lat_deg, alt_m = pyproj.transform(\n",
    "    ECEF, LLA, sat_ECEF.x_m, sat_ECEF.y_m, sat_ECEF.z_m, radians=False)\n",
    "\n",
    "event_LLA = LLA_Coord(lat_deg, lon_deg, 0.0)\n",
    "timeAndLocation = TimeAndLocation(\n",
    "    eventLocation_LLA=event_LLA, eventTime_UTC=currentDateTime)"
   ]
  },
  {
   "cell_type": "code",
   "execution_count": 10,
   "metadata": {},
   "outputs": [
    {
     "name": "stdout",
     "output_type": "stream",
     "text": [
      "Unexpected exception formatting exception. Falling back to standard exception\n"
     ]
    },
    {
     "name": "stderr",
     "output_type": "stream",
     "text": [
      "Traceback (most recent call last):\n",
      "  File \"/Users/kjohnston/RayTracing/venv/lib/python3.9/site-packages/IPython/core/interactiveshell.py\", line 3397, in run_code\n",
      "    exec(code_obj, self.user_global_ns, self.user_ns)\n",
      "  File \"/var/folders/58/1tk2h3ms7v1_2xqlx0tps9rc0000gn/T/ipykernel_21635/2925369861.py\", line 11, in <cell line: 11>\n",
      "    transIonosphereEffects = estimateRayPathEffects.estimate(freq_Hz=freq_Hz, quantizationParameter=quantizationParameter,\n",
      "  File \"/Users/kjohnston/RayTracing/src/raypatheffects.py\", line 39, in estimate\n",
      "    heights_m = stratificationOptimizer.generateHeightModel(freq_Hz=freq_Hz, quantizationParameter=quantizationParameter,\n",
      "  File \"/Users/kjohnston/RayTracing/src/stratification/stratificationoptimizer.py\", line 61, in generateHeightModel\n",
      "  File \"/Users/kjohnston/RayTracing/src/indexrefractionmodels/indexofrefractiongenerator.py\", line 55, in estimateIndexN\n",
      "    indexN = refractionModel.estimateIndexOfRefraction(currentState=rayState)\n",
      "  File \"/Users/kjohnston/RayTracing/src/indexrefractionmodels/xmodel.py\", line 15, in estimateIndexOfRefraction\n",
      "    iriOutput = self.spacePhysicsModels.iri.generatePointEstimate(\n",
      "  File \"/Users/kjohnston/RayTracing/src/models/iri_model.py\", line 18, in generatePointEstimate\n",
      "    iri = IRI(self.currentDateTime, altkmrange,\n",
      "  File \"/Users/kjohnston/RayTracing/venv/lib/python3.9/site-packages/iri2016/base.py\", line 60, in IRI\n",
      "    arr = np.genfromtxt(io.StringIO(ret), skip_header=Nalt)\n",
      "  File \"/Users/kjohnston/RayTracing/venv/lib/python3.9/site-packages/numpy/lib/npyio.py\", line 2145, in genfromtxt\n",
      "    raise ValueError(errmsg)\n",
      "ValueError: Some errors were detected !\n",
      "    Line #4 (got 100 columns instead of 12)\n",
      "\n",
      "During handling of the above exception, another exception occurred:\n",
      "\n",
      "Traceback (most recent call last):\n",
      "  File \"/Users/kjohnston/RayTracing/venv/lib/python3.9/site-packages/IPython/core/interactiveshell.py\", line 1992, in showtraceback\n",
      "    stb = self.InteractiveTB.structured_traceback(\n",
      "  File \"/Users/kjohnston/RayTracing/venv/lib/python3.9/site-packages/IPython/core/ultratb.py\", line 1118, in structured_traceback\n",
      "    return FormattedTB.structured_traceback(\n",
      "  File \"/Users/kjohnston/RayTracing/venv/lib/python3.9/site-packages/IPython/core/ultratb.py\", line 1012, in structured_traceback\n",
      "    return VerboseTB.structured_traceback(\n",
      "  File \"/Users/kjohnston/RayTracing/venv/lib/python3.9/site-packages/IPython/core/ultratb.py\", line 865, in structured_traceback\n",
      "    formatted_exception = self.format_exception_as_a_whole(etype, evalue, etb, number_of_lines_of_context,\n",
      "  File \"/Users/kjohnston/RayTracing/venv/lib/python3.9/site-packages/IPython/core/ultratb.py\", line 818, in format_exception_as_a_whole\n",
      "    frames.append(self.format_record(r))\n",
      "  File \"/Users/kjohnston/RayTracing/venv/lib/python3.9/site-packages/IPython/core/ultratb.py\", line 736, in format_record\n",
      "    result += ''.join(_format_traceback_lines(frame_info.lines, Colors, self.has_colors, lvals))\n",
      "  File \"/Users/kjohnston/RayTracing/venv/lib/python3.9/site-packages/stack_data/utils.py\", line 145, in cached_property_wrapper\n",
      "    value = obj.__dict__[self.func.__name__] = self.func(obj)\n",
      "  File \"/Users/kjohnston/RayTracing/venv/lib/python3.9/site-packages/stack_data/core.py\", line 698, in lines\n",
      "    pieces = self.included_pieces\n",
      "  File \"/Users/kjohnston/RayTracing/venv/lib/python3.9/site-packages/stack_data/utils.py\", line 145, in cached_property_wrapper\n",
      "    value = obj.__dict__[self.func.__name__] = self.func(obj)\n",
      "  File \"/Users/kjohnston/RayTracing/venv/lib/python3.9/site-packages/stack_data/core.py\", line 649, in included_pieces\n",
      "    pos = scope_pieces.index(self.executing_piece)\n",
      "  File \"/Users/kjohnston/RayTracing/venv/lib/python3.9/site-packages/stack_data/utils.py\", line 145, in cached_property_wrapper\n",
      "    value = obj.__dict__[self.func.__name__] = self.func(obj)\n",
      "  File \"/Users/kjohnston/RayTracing/venv/lib/python3.9/site-packages/stack_data/core.py\", line 628, in executing_piece\n",
      "    return only(\n",
      "  File \"/Users/kjohnston/RayTracing/venv/lib/python3.9/site-packages/executing/executing.py\", line 164, in only\n",
      "    raise NotOneValueFound('Expected one value, found 0')\n",
      "executing.executing.NotOneValueFound: Expected one value, found 0\n"
     ]
    }
   ],
   "source": [
    "ionosphereState = IonosphereState(150.0, 150.0, 3.0)\n",
    "\n",
    "# ======================================================\n",
    "estimateRayPathEffects = EstimateRayPathEffects(\n",
    "    timeAndLocation=timeAndLocation, dispersionModel=DispersionModel.X_MODEL, transportMode=TransportMode.PLASMA_MODE)\n",
    "\n",
    "freq_Hz = 10*6\n",
    "\n",
    "quantizationParameter = QuantizationParameter(StratificationMethod.DECIMATION_MODEL,nQuant=10)\n",
    "\n",
    "transIonosphereEffects = estimateRayPathEffects.estimate(freq_Hz=freq_Hz, quantizationParameter=quantizationParameter, \n",
    "ionosphereState=ionosphereState, satelliteInformation=satelliteInformation)"
   ]
  },
  {
   "cell_type": "code",
   "execution_count": null,
   "metadata": {},
   "outputs": [],
   "source": [
    "print(transIonosphereEffects.totalIonoDelay_sec)\n",
    "print(transIonosphereEffects.totalIonoLoss_db)\n",
    "\n",
    "rayStates = transIonosphereEffects.rayStates\n",
    "listTmp = []\n",
    "columnNames = []\n",
    "for rayState in rayStates:\n",
    "    tmpList = rayState.generateList()\n",
    "    listTmp.append(tmpList)\n",
    "    columnNames = rayState.generateColumnNames()\n",
    "\n",
    "df = pd.DataFrame(listTmp, columns = columnNames, dtype = float)"
   ]
  },
  {
   "cell_type": "code",
   "execution_count": null,
   "metadata": {},
   "outputs": [],
   "source": [
    "import matplotlib.pyplot as plt\n",
    "\n",
    "fig = plt.scatter(df['Longitude'],  df['Altitude']/1000)\n",
    "\n",
    "plt.xlabel(\"Longtiude [deg]\")\n",
    "plt.ylabel(\"Altitude [km]\")\n",
    "\n",
    "plt.show()"
   ]
  }
 ],
 "metadata": {
  "interpreter": {
   "hash": "c665a77d8665bfa36dea652a947388d7bb15ad70788b81369c4c949b553a2a88"
  },
  "kernelspec": {
   "display_name": "Python 3.9.7 ('venv': venv)",
   "language": "python",
   "name": "python3"
  },
  "language_info": {
   "codemirror_mode": {
    "name": "ipython",
    "version": 3
   },
   "file_extension": ".py",
   "mimetype": "text/x-python",
   "name": "python",
   "nbconvert_exporter": "python",
   "pygments_lexer": "ipython3",
   "version": "3.9.7"
  },
  "orig_nbformat": 4
 },
 "nbformat": 4,
 "nbformat_minor": 2
}
