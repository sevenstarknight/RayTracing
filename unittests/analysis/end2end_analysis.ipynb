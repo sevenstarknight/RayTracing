{
 "cells": [
  {
   "cell_type": "code",
   "execution_count": 1,
   "metadata": {},
   "outputs": [],
   "source": [
    "import sys\n",
    "sys.path.append(\"../../\")"
   ]
  },
  {
   "cell_type": "code",
   "execution_count": 2,
   "metadata": {},
   "outputs": [
    {
     "name": "stderr",
     "output_type": "stream",
     "text": [
      "100%|██████████| 12/12 [17:08<00:00, 85.70s/it]"
     ]
    },
    {
     "name": "stdout",
     "output_type": "stream",
     "text": [
      "|    |   nQuant |   layers |   totalIonoDelay_sec |   totalIonoLoss_db |   totalGeoDistance_m |\n",
      "|---:|---------:|---------:|---------------------:|-------------------:|---------------------:|\n",
      "|  0 |        2 |      193 |          0.00490721  |                  0 |                  193 |\n",
      "|  1 |        3 |      129 |          0.00327696  |                  0 |                  129 |\n",
      "|  2 |        4 |       97 |          0.00246177  |                  0 |                   97 |\n",
      "|  3 |        7 |       56 |          0.00141836  |                  0 |                   56 |\n",
      "|  4 |       10 |       39 |          0.000981559 |                  0 |                   39 |\n",
      "|  5 |       16 |       25 |          0.000627645 |                  0 |                   25 |\n",
      "|  6 |       26 |       15 |          0.000367419 |                  0 |                   15 |\n",
      "|  7 |       40 |       10 |          0.000241184 |                  0 |                   10 |\n",
      "|  8 |       64 |        7 |          0.00016883  |                  0 |                    7 |\n",
      "|  9 |      100 |        4 |          8.38903e-05 |                  0 |                    4 |\n",
      "| 10 |      159 |        3 |          5.78788e-05 |                  0 |                    3 |\n",
      "| 11 |      252 |        2 |          6.00664e-05 |                  0 |                    2 |\n"
     ]
    },
    {
     "name": "stderr",
     "output_type": "stream",
     "text": [
      "\n"
     ]
    }
   ],
   "source": [
    "import math\n",
    "import numpy as np\n",
    "import pandas as pd\n",
    "from tqdm import tqdm\n",
    "from src.endtoenddemonstration import EndToEndDemo\n",
    "from src.stratification.quantizationparameter_class import QuantizationParameter\n",
    "from src.stratification.stratificationmethod_enum import StratificationMethod\n",
    "\n",
    "\n",
    "end2EndDemo = EndToEndDemo()\n",
    "\n",
    "iterRange = np.arange(0.2,2.6,0.2)\n",
    "listOfResults_eqa = []\n",
    "\n",
    "for idx in tqdm(iterRange):\n",
    "    nQuant = math.ceil(10**idx)\n",
    "    quantizationParameter = QuantizationParameter(StratificationMethod.DECIMATION_MODEL,nQuant=nQuant)\n",
    "    transIonosphereEffects = end2EndDemo.execute_X(quantizationParameter)\n",
    "    result = {}\n",
    "    result[\"nQuant\"] = nQuant\n",
    "    result[\"layers\"] = len(transIonosphereEffects.rayVectors)\n",
    "    result[\"totalIonoDelay_sec\"] = transIonosphereEffects.totalIonoDelay_sec\n",
    "    result[\"totalIonoLoss_db\"] = transIonosphereEffects.totalIonoLoss_db\n",
    "    result[\"totalGeoDistance_m\"] = transIonosphereEffects.totalGeoDistance_m\n",
    "\n",
    "    listOfResults_eqa.append(result)\n",
    "\n",
    "listOfResults_eqa_df = pd.DataFrame(listOfResults_eqa)\n",
    "\n",
    "\n",
    "print(listOfResults_eqa_df.to_markdown())"
   ]
  }
 ],
 "metadata": {
  "kernelspec": {
   "display_name": "venv",
   "language": "python",
   "name": "python3"
  },
  "language_info": {
   "codemirror_mode": {
    "name": "ipython",
    "version": 3
   },
   "file_extension": ".py",
   "mimetype": "text/x-python",
   "name": "python",
   "nbconvert_exporter": "python",
   "pygments_lexer": "ipython3",
   "version": "3.10.4"
  },
  "orig_nbformat": 4
 },
 "nbformat": 4,
 "nbformat_minor": 2
}
