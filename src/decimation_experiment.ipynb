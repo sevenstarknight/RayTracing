{
 "cells": [
  {
   "cell_type": "code",
   "execution_count": 1,
   "metadata": {},
   "outputs": [],
   "source": [
    "import numpy as np\n",
    "import pandas as pd\n",
    "import math\n",
    "from tqdm.notebook import trange, tqdm\n",
    "\n",
    "import sys\n",
    "sys.path.append(\"../\")\n",
    "# ======================================================================================\n",
    "# Local imports\n",
    "from src.endtoenddemonstration import EndToEndDemo\n",
    "from src.stratification.quantizationparameter_class import QuantizationParameter\n",
    "from src.stratification.stratificationmethod_enum import StratificationMethod\n",
    "\n",
    "from src.logger.simlogger import get_logger, setup_applevel_logger, setup_applevel_logger\n",
    "\n",
    "setup_applevel_logger(file_name=\"app.log\")\n",
    "LOGGER = get_logger(__name__)\n"
   ]
  },
  {
   "cell_type": "code",
   "execution_count": null,
   "metadata": {},
   "outputs": [],
   "source": [
    "end2EndDemo = EndToEndDemo()\n",
    "\n",
    "results = pd.DataFrame()\n",
    "iterRange = np.arange(0,4,0.1)\n",
    "\n",
    "listOfResults = []\n",
    "\n",
    "for idx in tqdm(iterRange, desc='1st loop'):\n",
    "    nQuant = math.ceil(10**idx)\n",
    "    quantizationParameter = QuantizationParameter(StratificationMethod.DECIMATION_MODEL,nQuant=nQuant)\n",
    "    transIonosphereEffects = end2EndDemo.execute_X(quantizationParameter)\n",
    "    result = {}\n",
    "    result[\"nQuant\"] = nQuant\n",
    "    result[\"layers\"] = len(transIonosphereEffects.rayStates)\n",
    "    result[\"totalIonoDelay_sec\"] = transIonosphereEffects.totalIonoDelay_sec\n",
    "    result[\"totalIonoLoss_db\"] = transIonosphereEffects.totalIonoLoss_db\n",
    "    result[\"totalGeoDistance_m\"] = transIonosphereEffects.totalGeoDistance_m\n",
    "\n",
    "    listOfResults.append(result)\n"
   ]
  },
  {
   "cell_type": "code",
   "execution_count": 2,
   "metadata": {},
   "outputs": [
    {
     "data": {
      "application/vnd.jupyter.widget-view+json": {
       "model_id": "2a5c0463e91c474dbda4f9a69f4f0dee",
       "version_major": 2,
       "version_minor": 0
      },
      "text/plain": [
       "  0%|          | 0/40 [00:00<?, ?it/s]"
      ]
     },
     "metadata": {},
     "output_type": "display_data"
    },
    {
     "name": "stderr",
     "output_type": "stream",
     "text": [
      "Some errors were detected !\n",
      "    Line #4 (got 100 columns instead of 12)\n",
      "Some errors were detected !\n",
      "    Line #4 (got 100 columns instead of 12)\n",
      "Some errors were detected !\n",
      "    Line #3 (got 100 columns instead of 12)\n",
      "Some errors were detected !\n",
      "    Line #3 (got 100 columns instead of 12)\n",
      "Some errors were detected !\n",
      "    Line #4 (got 100 columns instead of 12)\n",
      "Some errors were detected !\n",
      "    Line #4 (got 100 columns instead of 12)\n",
      "Some errors were detected !\n",
      "    Line #4 (got 100 columns instead of 12)\n",
      "Some errors were detected !\n",
      "    Line #4 (got 100 columns instead of 12)\n",
      "Some errors were detected !\n",
      "    Line #3 (got 100 columns instead of 12)\n",
      "Some errors were detected !\n",
      "    Line #3 (got 100 columns instead of 12)\n",
      "Some errors were detected !\n",
      "    Line #3 (got 100 columns instead of 12)\n",
      "Some errors were detected !\n",
      "    Line #3 (got 100 columns instead of 12)\n",
      "Some errors were detected !\n",
      "    Line #4 (got 100 columns instead of 12)\n"
     ]
    }
   ],
   "source": [
    "end2EndDemo = EndToEndDemo()\n",
    "\n",
    "results_eqa = pd.DataFrame()\n",
    "iterRange = np.arange(0,4,0.1)\n",
    "listOfResults_eqa = []\n",
    "\n",
    "for idx in tqdm(iterRange):\n",
    "    nQuant = math.ceil(10**idx)\n",
    "    quantizationParameter = QuantizationParameter(StratificationMethod.EQUALAREA_MODEL,nQuant=nQuant)\n",
    "    transIonosphereEffects = end2EndDemo.execute_X(quantizationParameter)\n",
    "    result = {}\n",
    "    result[\"nQuant\"] = nQuant\n",
    "    result[\"layers\"] = len(transIonosphereEffects.rayStates)\n",
    "    result[\"totalIonoDelay_sec\"] = transIonosphereEffects.totalIonoDelay_sec\n",
    "    result[\"totalIonoLoss_db\"] = transIonosphereEffects.totalIonoLoss_db\n",
    "    result[\"totalGeoDistance_m\"] = transIonosphereEffects.totalGeoDistance_m\n",
    "\n",
    "    listOfResults_eqa.append(result)\n"
   ]
  },
  {
   "cell_type": "code",
   "execution_count": null,
   "metadata": {},
   "outputs": [],
   "source": [
    "end2EndDemo = EndToEndDemo()\n",
    "\n",
    "results_fm = pd.DataFrame()\n",
    "iterRange = np.arange(0,4,0.1)\n",
    "listOfResults_fm = []\n",
    "\n",
    "for idx in tqdm(iterRange):\n",
    "    nQuant = math.ceil(10**idx)\n",
    "    quantizationParameter = QuantizationParameter(StratificationMethod.LLOYDMAX_MODEL,nQuant=nQuant)\n",
    "    transIonosphereEffects = end2EndDemo.execute_X(quantizationParameter)\n",
    "    result = {}\n",
    "    result[\"nQuant\"] = nQuant\n",
    "    result[\"layers\"] = len(transIonosphereEffects.rayStates)\n",
    "    result[\"totalIonoDelay_sec\"] = transIonosphereEffects.totalIonoDelay_sec\n",
    "    result[\"totalIonoLoss_db\"] = transIonosphereEffects.totalIonoLoss_db\n",
    "    result[\"totalGeoDistance_m\"] = transIonosphereEffects.totalGeoDistance_m\n",
    "\n",
    "    listOfResults_fm.append(result)"
   ]
  },
  {
   "cell_type": "code",
   "execution_count": null,
   "metadata": {},
   "outputs": [],
   "source": [
    "results = pd.DataFrame(listOfResults_fm)\n",
    "results"
   ]
  },
  {
   "cell_type": "code",
   "execution_count": null,
   "metadata": {},
   "outputs": [],
   "source": [
    "results.plot(x = 'layers', y = 'totalIonoDelay_sec', kind = 'scatter')"
   ]
  }
 ],
 "metadata": {
  "interpreter": {
   "hash": "c665a77d8665bfa36dea652a947388d7bb15ad70788b81369c4c949b553a2a88"
  },
  "kernelspec": {
   "display_name": "Python 3.9.7 ('venv': venv)",
   "language": "python",
   "name": "python3"
  },
  "language_info": {
   "codemirror_mode": {
    "name": "ipython",
    "version": 3
   },
   "file_extension": ".py",
   "mimetype": "text/x-python",
   "name": "python",
   "nbconvert_exporter": "python",
   "pygments_lexer": "ipython3",
   "version": "3.9.7"
  },
  "orig_nbformat": 4
 },
 "nbformat": 4,
 "nbformat_minor": 2
}
